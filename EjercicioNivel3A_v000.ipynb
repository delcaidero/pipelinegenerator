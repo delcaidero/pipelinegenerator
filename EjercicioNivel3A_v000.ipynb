{
 "cells": [
  {
   "cell_type": "code",
   "execution_count": 1,
   "id": "a8891731",
   "metadata": {},
   "outputs": [],
   "source": [
    "# pip install --force --upgrade scikit-learn==1.0.2"
   ]
  },
  {
   "cell_type": "code",
   "execution_count": null,
   "id": "75d57b95",
   "metadata": {},
   "outputs": [
    {
     "ename": "",
     "evalue": "",
     "output_type": "error",
     "traceback": [
      "\u001b[1;31mRunning cells with 'Python 3.9.2 ('envEjN3')' requires ipykernel package.\n",
      "\u001b[1;31mRun the following command to install 'ipykernel' into the Python environment. \n",
      "\u001b[1;31mCommand: '/home/alby/cursoMLOps/88_ejercicios/EjercicioNivel3/envEjN3/bin/python -m pip install ipykernel -U --force-reinstall'"
     ]
    }
   ],
   "source": [
    "import pickle\n",
    "import mlflow\n",
    "import pandas as pd\n",
    "from sklearn.datasets import fetch_openml\n",
    "from sklearn.model_selection import train_test_split\n",
    "from sklearn.tree import DecisionTreeClassifier\n",
    "from sklearn.pipeline import Pipeline, make_pipeline\n",
    "from sklearn.compose import ColumnTransformer\n",
    "from sklearn.preprocessing import OneHotEncoder, StandardScaler\n",
    "from sklearn.impute import SimpleImputer\n",
    "from sklearn.decomposition import PCA\n",
    "from random import randint\n",
    "#from sklearn.metrics._classification import accuracy_score\n",
    "from sklearn.model_selection import GridSearchCV, RandomizedSearchCV\n",
    "\n",
    "X, y = fetch_openml(\"titanic\", version=1, as_frame=True, return_X_y=True)\n",
    "\n",
    "X.rename(columns={\n",
    "    \"home.dest\": \"homedest\"\n",
    "}, inplace=True)\n",
    "\n",
    "mlflow_client = mlflow.client.MlflowClient(\"http://127.0.0.1:5000\")\n",
    "mlflow.set_tracking_uri(\"http://127.0.0.1:5000\")\n",
    "mlflow.set_experiment(\"RANDOMIZED SEARCH\")\n",
    "\n",
    "mlflow.sklearn.autolog()\n",
    "\n",
    "#si se usa CV ( CROSS VALIDATION) no dividimos el dataset entre TRAIN y TEST\n",
    "#seed = randint(0,10000000)\n",
    "seed = 1234\n",
    "X_train, X_test, y_train, y_test = train_test_split(X, y, test_size=0.2, random_state=seed)\n",
    "\n",
    "#with mlflow.start_run():\n",
    "#for pca_components in range(1, 5):\n",
    "#        with mlflow.start_run(nested=True):\n",
    "num_pipeline = Pipeline([\n",
    "    (\"imputer\", SimpleImputer()),\n",
    "    (\"ss\", StandardScaler()),\n",
    "    (\"pca\", PCA())\n",
    "])\n",
    "\n",
    "#            mlflow.log_param(\"pca_components\", pca_components)\n",
    "#            mlflow.log_param(\"seed\", seed)\n",
    "\n",
    "ct = ColumnTransformer([\n",
    "    (\"cat\", OneHotEncoder(), [\"pclass\", \"sex\", \"embarked\"]),\n",
    "    (\"num\", num_pipeline, [\"age\", \"fare\", \"sibsp\", \"parch\"])\n",
    "])\n",
    "\n",
    "# Entrenamiento \n",
    "\n",
    "pipeline = Pipeline([\n",
    "    (\"ct\", ct),\n",
    "    (\"model\", DecisionTreeClassifier())\n",
    "])\n",
    "\n",
    "#paso nuevo METAESTIMACION\n",
    "param_grid ={\n",
    "    \"ct__num__pca__n_components\": [1,2,3,4],\n",
    "    \"model__max_depth\": [2,3,4,5,6,7,8]\n",
    "}\n",
    "\n",
    "# una opcion\n",
    "#pipeline = GridSearchCV(pipeline, param_grid, scoring=\"accuracy\")\n",
    "\n",
    "# una opcion más rápida\n",
    "pipeline = RandomizedSearchCV(pipeline, param_grid, scoring=\"accuracy\", verbose=True, n_iter=5)\n",
    "\n",
    "pipeline.fit(X_train, y_train)"
   ]
  },
  {
   "cell_type": "code",
   "execution_count": 3,
   "id": "5a17993a",
   "metadata": {},
   "outputs": [],
   "source": [
    "#RandomizedSearchCV?"
   ]
  },
  {
   "cell_type": "code",
   "execution_count": 4,
   "id": "1e24bf87",
   "metadata": {},
   "outputs": [
    {
     "data": {
      "text/plain": [
       "{'model__max_depth': 3, 'ct__num__pca__n_components': 2}"
      ]
     },
     "execution_count": 4,
     "metadata": {},
     "output_type": "execute_result"
    }
   ],
   "source": [
    "pipeline.best_params_"
   ]
  },
  {
   "cell_type": "code",
   "execution_count": 5,
   "id": "9f059e17",
   "metadata": {},
   "outputs": [
    {
     "data": {
      "text/plain": [
       "Pipeline(steps=[('ct',\n",
       "                 ColumnTransformer(transformers=[('cat', OneHotEncoder(),\n",
       "                                                  ['pclass', 'sex',\n",
       "                                                   'embarked']),\n",
       "                                                 ('num',\n",
       "                                                  Pipeline(steps=[('imputer',\n",
       "                                                                   SimpleImputer()),\n",
       "                                                                  ('ss',\n",
       "                                                                   StandardScaler()),\n",
       "                                                                  ('pca',\n",
       "                                                                   PCA(n_components=2))]),\n",
       "                                                  ['age', 'fare', 'sibsp',\n",
       "                                                   'parch'])])),\n",
       "                ('model', DecisionTreeClassifier(max_depth=3))])"
      ]
     },
     "execution_count": 5,
     "metadata": {},
     "output_type": "execute_result"
    }
   ],
   "source": [
    "pipeline.best_estimator_"
   ]
  },
  {
   "cell_type": "code",
   "execution_count": 6,
   "id": "9e96fcd6",
   "metadata": {},
   "outputs": [
    {
     "data": {
      "text/plain": [
       "array(['0', '0', '0', '0', '0', '0', '0', '1', '0', '1', '1', '1', '0',\n",
       "       '0', '0', '1', '0', '0', '0', '0', '1', '0', '1', '0', '0', '1',\n",
       "       '1', '0', '0', '1', '0', '1', '0', '0', '0', '1', '1', '0', '0',\n",
       "       '1', '1', '1', '0', '1', '1', '0', '1', '0', '1', '0', '1', '1',\n",
       "       '0', '0', '0', '0', '0', '0', '0', '0', '0', '1', '0', '0', '0',\n",
       "       '0', '1', '1', '0', '1', '1', '1', '1', '0', '0', '0', '1', '1',\n",
       "       '1', '0', '0', '1', '0', '0', '0', '1', '0', '0', '0', '0', '1',\n",
       "       '0', '0', '1', '1', '0', '0', '1', '1', '0', '1', '1', '1', '0',\n",
       "       '0', '0', '0', '0', '0', '1', '0', '1', '1', '0', '0', '0', '0',\n",
       "       '1', '1', '1', '0', '0', '1', '0', '0', '1', '1', '0', '0', '0',\n",
       "       '0', '1', '0', '1', '0', '0', '0', '1', '1', '1', '0', '1', '0',\n",
       "       '0', '0', '1', '1', '0', '0', '0', '1', '0', '0', '1', '0', '0',\n",
       "       '0', '0', '1', '1', '0', '0', '0', '1', '1', '0', '0', '0', '1',\n",
       "       '0', '1', '0', '0', '0', '0', '0', '0', '1', '1', '1', '0', '0',\n",
       "       '0', '0', '0', '0', '0', '0', '0', '1', '0', '1', '0', '0', '0',\n",
       "       '0', '0', '1', '0', '0', '1', '0', '1', '1', '1', '0', '0', '0',\n",
       "       '0', '0', '0', '0', '0', '1', '1', '1', '0', '0', '0', '1', '0',\n",
       "       '0', '0', '0', '1', '1', '0', '0', '0', '0', '0', '0', '1', '0',\n",
       "       '1', '1', '1', '0', '1', '1', '0', '0', '1', '0', '1', '1', '0',\n",
       "       '0', '0', '1', '1', '1', '0', '0', '0', '0', '0', '0', '1', '0',\n",
       "       '0', '1'], dtype=object)"
      ]
     },
     "execution_count": 6,
     "metadata": {},
     "output_type": "execute_result"
    }
   ],
   "source": [
    "pipeline.predict(X_test)"
   ]
  },
  {
   "cell_type": "code",
   "execution_count": null,
   "id": "0b076aa9",
   "metadata": {},
   "outputs": [],
   "source": []
  },
  {
   "cell_type": "code",
   "execution_count": 7,
   "id": "819a2284",
   "metadata": {},
   "outputs": [
    {
     "ename": "PicklingError",
     "evalue": "Can't pickle <function accuracy_score at 0x7f9c405d4ca0>: it's not the same object as sklearn.metrics._classification.accuracy_score",
     "output_type": "error",
     "traceback": [
      "\u001b[0;31m---------------------------------------------------------------------------\u001b[0m",
      "\u001b[0;31mPicklingError\u001b[0m                             Traceback (most recent call last)",
      "Cell \u001b[0;32mIn [7], line 17\u001b[0m\n\u001b[1;32m      9\u001b[0m \u001b[38;5;66;03m# Acc. en train\u001b[39;00m\n\u001b[1;32m     10\u001b[0m \u001b[38;5;66;03m#mlflow.log_metric(\"acc.train\", accuracy_score(y_train, y_pred_train))\u001b[39;00m\n\u001b[1;32m     11\u001b[0m \n\u001b[0;32m   (...)\u001b[0m\n\u001b[1;32m     14\u001b[0m \n\u001b[1;32m     15\u001b[0m \u001b[38;5;66;03m# Serialización \u001b[39;00m\n\u001b[1;32m     16\u001b[0m \u001b[38;5;28;01mwith\u001b[39;00m \u001b[38;5;28mopen\u001b[39m(\u001b[38;5;124m\"\u001b[39m\u001b[38;5;124mtitanic_model.pkl\u001b[39m\u001b[38;5;124m\"\u001b[39m, \u001b[38;5;124m\"\u001b[39m\u001b[38;5;124mwb\u001b[39m\u001b[38;5;124m\"\u001b[39m) \u001b[38;5;28;01mas\u001b[39;00m f:\n\u001b[0;32m---> 17\u001b[0m     \u001b[43mpickle\u001b[49m\u001b[38;5;241;43m.\u001b[39;49m\u001b[43mdump\u001b[49m\u001b[43m(\u001b[49m\u001b[43mpipeline\u001b[49m\u001b[43m,\u001b[49m\u001b[43m \u001b[49m\u001b[43mf\u001b[49m\u001b[43m)\u001b[49m\n\u001b[1;32m     18\u001b[0m     mlflow\u001b[38;5;241m.\u001b[39mlog_artifact(\u001b[38;5;124m\"\u001b[39m\u001b[38;5;124mtitanic_model.pkl\u001b[39m\u001b[38;5;124m\"\u001b[39m, \u001b[38;5;124m\"\u001b[39m\u001b[38;5;124mmodel/pickle\u001b[39m\u001b[38;5;124m\"\u001b[39m)\n\u001b[1;32m     20\u001b[0m \u001b[38;5;66;03m#Cerramos el run de MLFlow ( no hace falta)\u001b[39;00m\n\u001b[1;32m     21\u001b[0m \u001b[38;5;66;03m#mlflow.end_run()\u001b[39;00m\n",
      "\u001b[0;31mPicklingError\u001b[0m: Can't pickle <function accuracy_score at 0x7f9c405d4ca0>: it's not the same object as sklearn.metrics._classification.accuracy_score"
     ]
    }
   ],
   "source": [
    "# Evaluación\n",
    "\n",
    "#from sklearn.metrics import accuracy_score\n",
    "###from sklearn.metrics._classification import accuracy_score\n",
    "\n",
    "y_pred_train = pipeline.predict(X_train)\n",
    "y_pred_test = pipeline.predict(X_test)\n",
    "\n",
    "# Acc. en train\n",
    "#mlflow.log_metric(\"acc.train\", accuracy_score(y_train, y_pred_train))\n",
    "\n",
    "# Acc. en test\n",
    "#mlflow.log_metric(\"acc.test\", accuracy_score(y_test, y_pred_test))\n",
    "\n",
    "# Serialización \n",
    "with open(\"titanic_model.pkl\", \"wb\") as f:\n",
    "    pickle.dump(pipeline, f)\n",
    "    mlflow.log_artifact(\"titanic_model.pkl\", \"model/pickle\")\n",
    "\n",
    "#Cerramos el run de MLFlow ( no hace falta)\n",
    "#mlflow.end_run()"
   ]
  },
  {
   "cell_type": "code",
   "execution_count": null,
   "id": "ea5d6ee6",
   "metadata": {},
   "outputs": [
    {
     "name": "stdout",
     "output_type": "stream",
     "text": [
      "0.9777777777777777\n"
     ]
    }
   ],
   "source": [
    "    # Python program to compute accuracy score using the function accuracy_score  \n",
    "      \n",
    "    # Importing the required libraries  \n",
    "    import pickle\n",
    "    import numpy as np  \n",
    "    from sklearn.model_selection import train_test_split  \n",
    "    from sklearn.metrics import accuracy_score   \n",
    "    from sklearn.svm import SVC  \n",
    "    from sklearn.datasets import load_iris  \n",
    "      \n",
    "    # Loading the dataset  \n",
    "    X, Y = load_iris(return_X_y = True)  \n",
    "      \n",
    "    # Splitting the dataset in training and test data  \n",
    "    X_train, X_test, Y_train, Y_test = train_test_split(X, Y, test_size = 0.3, random_state = 0)  \n",
    "      \n",
    "    # Training the model using the Support Vector Classification class of sklearn  \n",
    "    svc = SVC()  \n",
    "    svc.fit(X_train, Y_train)  \n",
    "      \n",
    "    # Computing the accuracy_score of the model  \n",
    "    Y_pred = svc.predict(X_test)  \n",
    "    score = accuracy_score(Y_test, Y_pred)  \n",
    "    print(score)  "
   ]
  },
  {
   "cell_type": "code",
   "execution_count": null,
   "id": "6f22d9ad",
   "metadata": {},
   "outputs": [],
   "source": [
    "with open(\"prueba_svc.pkl\", \"wb\") as f:\n",
    "    pickle.dump(svc, f)"
   ]
  }
 ],
 "metadata": {
  "kernelspec": {
   "display_name": "Python 3.9.2 ('envEjN3')",
   "language": "python",
   "name": "python3"
  },
  "language_info": {
   "codemirror_mode": {
    "name": "ipython",
    "version": 3
   },
   "file_extension": ".py",
   "mimetype": "text/x-python",
   "name": "python",
   "nbconvert_exporter": "python",
   "pygments_lexer": "ipython3",
   "version": "3.9.2"
  },
  "vscode": {
   "interpreter": {
    "hash": "0115056f6cd6865cce59d84c668c7e3a5a75e40fad912a6f6719060af4cf9314"
   }
  }
 },
 "nbformat": 4,
 "nbformat_minor": 5
}
