{
 "cells": [
  {
   "cell_type": "code",
   "execution_count": 1,
   "id": "cd6bc793",
   "metadata": {},
   "outputs": [],
   "source": [
    "import pickle\n",
    "from sklearn.pipeline import Pipeline, make_pipeline\n",
    "from sklearn.compose import ColumnTransformer\n",
    "from sklearn.preprocessing import OneHotEncoder, StandardScaler\n",
    "from sklearn.impute import SimpleImputer\n",
    "from sklearn.decomposition import PCA\n",
    "\n",
    "from sklearn.datasets import fetch_openml\n",
    "from sklearn.model_selection import train_test_split\n",
    "from sklearn.tree import DecisionTreeClassifier\n",
    "\n",
    "\n",
    "#generador de pipelines\n",
    "def make_pipeline(use_pca: bool =False, components: int =0, num_var: list=[], cat_var: list=[]):\n",
    "    \n",
    "    if use_pca:\n",
    "        num_pipeline = Pipeline([\n",
    "            (\"imputer\", SimpleImputer()),\n",
    "            (\"ss\", StandardScaler()),\n",
    "            (\"pca\", PCA(n_components=components))\n",
    "        ])\n",
    "    else:\n",
    "        num_pipeline = Pipeline([\n",
    "            (\"imputer\", SimpleImputer()),\n",
    "            (\"ss\", StandardScaler())\n",
    "        ])\n",
    "\n",
    "    ct = ColumnTransformer([\n",
    "        (\"cat\", OneHotEncoder(), cat_var),\n",
    "        (\"num\", num_pipeline, num_var)\n",
    "    ])\n",
    "\n",
    "    pipeline = Pipeline([\n",
    "        (\"ct\", ct)\n",
    "    ])\n",
    "\n",
    "    return pipeline\n",
    "\n",
    "def fit(pipeline: Pipeline, X, y):\n",
    "    pipeline = pipeline.fit(X, y)\n",
    "    return pipeline\n",
    "\n",
    "def export(pipeline: Pipeline, file: str):\n",
    "    with open(file, \"wb\") as f:\n",
    "        pickle.dump(pipeline, f)\n",
    "\n",
    "\n",
    "# Crear el pipeline\n",
    "generated_pipeline = make_pipeline(use_pca=True, components=0, num_var=[\"age\", \"fare\", \"sibsp\", \"parch\"], cat_var=[\"pclass\", \"sex\", \"embarked\"])\n",
    "\n",
    "\n",
    "# carga del dataset\n",
    "X, y = fetch_openml(\"titanic\", version=1, as_frame=True, return_X_y=True)\n",
    "\n",
    "# preprocesamiento\n",
    "X.rename(columns={\n",
    "    \"home.dest\": \"homedest\"\n",
    "}, inplace=True)\n",
    "\n",
    "# division train_test\n",
    "seed = 1234\n",
    "X_train, X_test, y_train, y_test = train_test_split(X, y, test_size=0.2, random_state=seed)\n",
    "\n",
    "# Entrenamiento \n",
    "generated_pipeline = fit(generated_pipeline, X_train, y_train)\n",
    "\n",
    "# exportar pipeline\n",
    "export(generated_pipeline, \"generated_pipeline.pkl\")"
   ]
  },
  {
   "cell_type": "code",
   "execution_count": 32,
   "id": "5a17993a",
   "metadata": {},
   "outputs": [
    {
     "data": {
      "text/plain": [
       "array(['0', '0', '0', '0', '0'], dtype=object)"
      ]
     },
     "execution_count": 32,
     "metadata": {},
     "output_type": "execute_result"
    }
   ],
   "source": [
    "# ejemplo de \n",
    "pipeline = Pipeline([\n",
    "        (\"generated_pipeline\", generated_pipeline),\n",
    "        (\"model\",DecisionTreeClassifier())\n",
    "    ])\n",
    "\n",
    "pipeline.fit(X_test, y_test)\n",
    "\n",
    "pipeline.predict(X_test.head())"
   ]
  }
 ],
 "metadata": {
  "kernelspec": {
   "display_name": "Python 3.9.2 ('envEjN3')",
   "language": "python",
   "name": "python3"
  },
  "language_info": {
   "codemirror_mode": {
    "name": "ipython",
    "version": 3
   },
   "file_extension": ".py",
   "mimetype": "text/x-python",
   "name": "python",
   "nbconvert_exporter": "python",
   "pygments_lexer": "ipython3",
   "version": "3.9.2"
  },
  "vscode": {
   "interpreter": {
    "hash": "0115056f6cd6865cce59d84c668c7e3a5a75e40fad912a6f6719060af4cf9314"
   }
  }
 },
 "nbformat": 4,
 "nbformat_minor": 5
}
